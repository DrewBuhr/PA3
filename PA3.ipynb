{
 "cells": [
  {
   "cell_type": "code",
   "execution_count": 9,
   "id": "118f8670",
   "metadata": {},
   "outputs": [],
   "source": [
    "import math"
   ]
  },
  {
   "cell_type": "code",
   "execution_count": 6,
   "id": "7f68dabb",
   "metadata": {},
   "outputs": [],
   "source": [
    "from math import sqrt"
   ]
  },
  {
   "cell_type": "code",
   "execution_count": 7,
   "id": "d71cff22",
   "metadata": {},
   "outputs": [],
   "source": [
    "a=1\n",
    "b=1\n",
    "c=1"
   ]
  },
  {
   "cell_type": "code",
   "execution_count": 46,
   "id": "a5d88a81",
   "metadata": {},
   "outputs": [],
   "source": [
    "def calcArea(a=1,b=1,c=1):\n",
    "    p= (.5*a)+(.5*b)+(.5*c)\n",
    "    area= sqrt((p*(p-a)*(p-b)*(p-c)))\n",
    "    perimeter= a+b+c\n",
    "    return area\n",
    "    return perimeter"
   ]
  },
  {
   "cell_type": "code",
   "execution_count": 47,
   "id": "5690319d",
   "metadata": {},
   "outputs": [
    {
     "data": {
      "text/plain": [
       "10.825317547305483"
      ]
     },
     "execution_count": 47,
     "metadata": {},
     "output_type": "execute_result"
    }
   ],
   "source": [
    "calcArea(5,5,5)"
   ]
  },
  {
   "cell_type": "code",
   "execution_count": 21,
   "id": "8bb84f69",
   "metadata": {},
   "outputs": [
    {
     "name": "stdout",
     "output_type": "stream",
     "text": [
      "Enter the length of side A: 12\n",
      "Enter the length of side B: 16\n",
      "Enter the length of side C: 21\n",
      "The area of the triangle is approximately 95.4512310030625 square units.\n",
      "The perimeter of the triangle is 49 linear units.\n"
     ]
    }
   ],
   "source": [
    "a= int(input(\"Enter the length of side A: \"))\n",
    "b= int(input(\"Enter the length of side B: \"))\n",
    "c= int(input(\"Enter the length of side C: \"))\n",
    "p= (.5*a)+(.5*b)+(.5*c)\n",
    "def calcArea(a=1,b=1,c=1):\n",
    "    return sqrt((p*(p-a)*(p-b)*(p-c)))\n",
    "def calcPerimeter(a=1,b=1,c=1):\n",
    "    return a+b+c\n",
    "\n",
    "print(\"The area of the triangle is approximately\", calcArea(a,b,c), \"square units.\")\n",
    "print(\"The perimeter of the triangle is\", calcPerimeter(a,b,c), \"linear units.\")"
   ]
  },
  {
   "cell_type": "markdown",
   "id": "5ff0330d",
   "metadata": {},
   "source": [
    "## Question B"
   ]
  },
  {
   "cell_type": "code",
   "execution_count": 43,
   "id": "8f3d7136",
   "metadata": {},
   "outputs": [],
   "source": [
    "import random"
   ]
  },
  {
   "cell_type": "code",
   "execution_count": 44,
   "id": "5a9054b9",
   "metadata": {},
   "outputs": [
    {
     "name": "stdout",
     "output_type": "stream",
     "text": [
      "Enter your guess:200\n",
      "Too high! Guess again\n",
      "Enter your guess:100\n",
      "Too low! Guess again\n",
      "Enter your guess:150\n",
      "Too low! Guess again\n",
      "Enter your guess:165\n",
      "Too low! Guess again\n",
      "Enter your guess:180\n",
      "Too low! Guess again\n",
      "Enter your guess:190\n",
      "Too low! Guess again\n",
      "Enter your guess:195\n",
      "Too low! Guess again\n",
      "Enter your guess:198\n",
      "Too high! Guess again\n",
      "Enter your guess:198\n",
      "Too high! Guess again\n",
      "Enter your guess:196\n",
      "Too low! Guess again\n",
      "Enter your guess:195\n",
      "Too low! Guess again\n",
      "Enter your guess:197\n",
      "Correct!\n"
     ]
    }
   ],
   "source": [
    "number= random.randint(1,1000)\n",
    "guess_number=None\n",
    "while guess_number!=number:\n",
    "    guess_number= int(input(\"Enter your guess:\"))\n",
    "    if guess_number==number:\n",
    "        print(\"Correct!\")\n",
    "        break\n",
    "    elif guess_number<number:\n",
    "        print(\"Too low! Guess again\")\n",
    "    else:\n",
    "        print(\"Too high! Guess again\")"
   ]
  },
  {
   "cell_type": "markdown",
   "id": "a88a37ec",
   "metadata": {},
   "source": [
    "## Part C"
   ]
  },
  {
   "cell_type": "code",
   "execution_count": 41,
   "id": "fc2deea3",
   "metadata": {},
   "outputs": [],
   "source": [
    "import statistics"
   ]
  },
  {
   "cell_type": "code",
   "execution_count": 42,
   "id": "c4e6e63d",
   "metadata": {},
   "outputs": [
    {
     "name": "stdout",
     "output_type": "stream",
     "text": [
      "The mean tmperature for the 5 days is 81.0degrees F.\n"
     ]
    }
   ],
   "source": [
    "def temp_mean(*args):\n",
    "    mean= sum(args)/len(args)\n",
    "    print (f\"The mean tmperature for the {len(args)} days is {mean}degrees F.\")\n",
    "\n",
    "temp_mean(76,88,98,78,65)"
   ]
  },
  {
   "cell_type": "markdown",
   "id": "839f852d",
   "metadata": {},
   "source": [
    "## PA3, Drew Buhr, CS 150-01"
   ]
  }
 ],
 "metadata": {
  "kernelspec": {
   "display_name": "Python 3",
   "language": "python",
   "name": "python3"
  },
  "language_info": {
   "codemirror_mode": {
    "name": "ipython",
    "version": 3
   },
   "file_extension": ".py",
   "mimetype": "text/x-python",
   "name": "python",
   "nbconvert_exporter": "python",
   "pygments_lexer": "ipython3",
   "version": "3.8.8"
  }
 },
 "nbformat": 4,
 "nbformat_minor": 5
}
